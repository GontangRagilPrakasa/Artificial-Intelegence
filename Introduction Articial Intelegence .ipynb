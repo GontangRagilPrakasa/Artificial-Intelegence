{
 "cells": [
  {
   "cell_type": "markdown",
   "metadata": {},
   "source": [
    "Gontang Ragil Prakasa Teknik Informatika Universitas Ahmad Dahlan"
   ]
  },
  {
   "cell_type": "markdown",
   "metadata": {},
   "source": [
    "<h1>Variabel Logika</h1><br>\n",
    "Variabel logika adalah variabel yang bisa memuat sembarang nilai, tetapi hanya satu nilai dalam satu waktu. Cara penggunaan variabel logika menggunakan Kanren adalah dengan mendeklarasikan variabel menggunakan var. Contohnya x = var() dimana x merupakan variabel logika. <br> \n",
    "<h1>Constraint dan Goal</h1><br>\n",
    "Constraint adalah ekspresi yang membatasi nilai dari variabel logika.<br> \n",
    "Contoh 1: <br>\n",
    "Setelah mendeklarasikan x = var(), variabel x dapat menampung sembarang nilai. Apabila ingin membatasi atau memberi constraint bahwa nilai variabel x adalah sama dengan 5 , maka constraint variabel x dapat ditulis menjadi eq(x, 5) . <br> \n",
    "Goal menyatakan hasil akhir yang ingin dicapai. <br> \n",
    "Contoh 2: <br>\n",
    "Misalnya variabel y dideklarasikan sebagai variabel menggunakan cara yang sama dengan contoh 1, y = var(). Goal yang ingin dicapai adalah persamaan  (x, y) = (y, 3). Pada persamaan tersebut goal dapat ditulis menggunakan sintaks eq, yang menyatakan bahwa kedua espresi adalah sama (equal).  Goal  tersebut dapat ditulis sebagai berikut eq((x, y), (y, 3)). <br>\n",
    "<h1>Ekspresi Logika (Logic Expression) </h1><br>\n",
    "Ekspresi logika terdiri dari kumpulan variabel logika dan kumpulan constraint terhadap nilai dari varibel logika tersebut. Apabila x adalah variabel maka tiap ekspresi logika mengandung constraint yang membatasi nilai dari variabel x.\n"
   ]
  },
  {
   "cell_type": "code",
   "execution_count": 6,
   "metadata": {},
   "outputs": [
    {
     "name": "stdout",
     "output_type": "stream",
     "text": [
      "contoh 1\n",
      "(5,)\n",
      "contoh 2\n",
      "(3,)\n"
     ]
    }
   ],
   "source": [
    "print (\"contoh 1\")\n",
    "# berdasarkan ekspresi logika diatas dapat dituangkan ke dalam program sebagai berikut\n",
    "# pertama kita harus mengimport panckage - pip install kanren - dalam command prompt anaconda\n",
    "#kemudian kita import module dan subjek modulenya \n",
    "from kanren.core import var,eq,run ## module kanren dan subjek var, en, run\n",
    "#kemudian kita simpan dalam penggunaan variabel logika var()\n",
    "x = var()\n",
    "output = run(1,x,eq(5,x)) #baris ke 3\n",
    "#ekspresi yang dijalankan dengan menggunakan sntaks run pada baris 3, menunjukkan bahwa proram\n",
    "#tersebut meminta 1 nulai, yaitu variabel  x, dengan constraint x = 5 haril program ditampilkan\n",
    "#pada barus 4 sehingga keluaran dari program tersebut adalah sebagai berikut\n",
    "print (output)\n",
    "print (\"contoh 2\")\n",
    "x = var()\n",
    "y = var()\n",
    "output1 = run(1,x,eq((x,y),(y,3))) #baris ke 4\n",
    "#Sintaks pada baris ke 4 menunjukkan bahwa program tersebut meminta 1 nilai, yaitu variabel x, dengan\n",
    "#goal eq((x,y),(y,3)). Dengan kata lain, cari nilai variabel x yang memenuhi constraint y ==3 dan \n",
    "#memenuhi syarat (x,y) = (y,3) sehingga apabila dijalankan program tersebut akan menampilakn keluran\n",
    "print (output1)"
   ]
  },
  {
   "cell_type": "markdown",
   "metadata": {},
   "source": [
    "<h1>Studi Kasus</h1>\n",
    "Jika kita mempunyai silsilah keluarga <br>\n",
    "<img src=\"image/family.png\" width=400px /> <br>\n",
    "Bagaimana cara mengaplikasikan ke dalam bahasa python?"
   ]
  },
  {
   "cell_type": "code",
   "execution_count": 16,
   "metadata": {},
   "outputs": [
    {
     "name": "stdout",
     "output_type": "stream",
     "text": [
      "Siapa? = Homer\n",
      "\n",
      "Nama Ayah Homer  adalah  Abe\n"
     ]
    }
   ],
   "source": [
    "from kanren.facts import Relation,facts\n",
    "from kanren.core import var, run\n",
    "\n",
    "father = Relation()\n",
    "facts(father,(\"Abe\",\"Homer\"),\n",
    "             (\"Homer\",\"Bart\"),\n",
    "             (\"Homer\",\"Lisa\"))\n",
    "x = var()\n",
    "masuk = input(\"Siapa? = \")\n",
    "hasil = run(1,x,father(x,masuk))\n",
    "print (\"\\nNama Ayah\",masuk,\" adalah \",hasil[0])"
   ]
  },
  {
   "cell_type": "code",
   "execution_count": null,
   "metadata": {
    "collapsed": true
   },
   "outputs": [],
   "source": []
  }
 ],
 "metadata": {
  "kernelspec": {
   "display_name": "Python 3",
   "language": "python",
   "name": "python3"
  },
  "language_info": {
   "codemirror_mode": {
    "name": "ipython",
    "version": 3
   },
   "file_extension": ".py",
   "mimetype": "text/x-python",
   "name": "python",
   "nbconvert_exporter": "python",
   "pygments_lexer": "ipython3",
   "version": "3.6.3"
  }
 },
 "nbformat": 4,
 "nbformat_minor": 2
}
